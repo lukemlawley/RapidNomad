{
 "cells": [
  {
   "attachments": {},
   "cell_type": "markdown",
   "id": "19c2face",
   "metadata": {},
   "source": [
    "[![image](https://colab.research.google.com/assets/colab-badge.svg)](https://colab.research.google.com/github/lukemlawley/RapidNomad/blob/main/RapidNomad_in_venv-checkpoint.ipynb)"
   ]
  },
  {
   "cell_type": "code",
   "execution_count": null,
   "metadata": {},
   "outputs": [],
   "source": [
    "import networkx as nx\n",
    "import geemap as gm\n",
    "import shapefile as shp\n",
    "import ipyleaflet\n",
    "import fiona as fi\n",
    "import geopandas as geopandas\n",
    "import folium"
   ]
  },
  {
   "cell_type": "code",
   "execution_count": null,
   "id": "77b4f4a2",
   "metadata": {},
   "outputs": [],
   "source": [
    "from ipyleaflet import Polyline\n",
    "from IPython.display import display, HTML\n",
    "KnoxCountyRoads = geopandas.read_file(\"\\\\Users\\lukmlawl\\Rapid-Nomad\\RapidNomad\\KnoxCountyRoads\\KnoxCountyRoads.shp\")\n",
    "table_html = KnoxCountyRoads.to_html(index=False)\n",
    "display(HTML(f'<div> style=\"overflow-y: scroll; height: 200px\">{table_html}</div>'))"
   ]
  },
  {
   "cell_type": "code",
   "execution_count": 30,
   "id": "3c63fcab",
   "metadata": {},
   "outputs": [
    {
     "data": {
      "application/vnd.jupyter.widget-view+json": {
       "model_id": "61d1d8eb76454e669933292dd895af3f",
       "version_major": 2,
       "version_minor": 0
      },
      "text/plain": [
       "Map(center=[36, -84], controls=(ZoomControl(options=['position', 'zoom_in_text', 'zoom_in_title', 'zoom_out_te…"
      ]
     },
     "metadata": {},
     "output_type": "display_data"
    }
   ],
   "source": [
    "import folium\n",
    "import ipyleaflet \n",
    "from ipyleaflet import Map, basemaps, GeoData, GeoJSON, TileLayer, Polyline, basemap_to_tiles\n",
    "m = Map(basemap=basemaps.Esri.WorldStreetMap, center = (36, -84), zoom =9)\n",
    "esri_url = 'https://server.arcgisonline.com/ArcGIS/rest/services/World_Street_Map/MapServer/tile/{z}/{y}/{x}'\n",
    "esri_layer = TileLayer(url=esri_url, attribution='Esri')\n",
    "style = {'color': 'red', 'weight': 2, 'opacity': 1}\n",
    "def get_polyline_feature(row):\n",
    "    return Polyline(\n",
    "        locations=[(row[\"latitude_start\"], row[\"longitude_start\"]), (row[\"latitude_end\"], row[\"longitude_end\"])],\n",
    "        color=style['color'],\n",
    "        weight=style['weight'],\n",
    "        opacity=style['opacity']\n",
    "    )\n",
    "def style_function():\n",
    "    return {\n",
    "        'color': 'red',\n",
    "        'weight':2,\n",
    "        'opacity':1,\n",
    "    }    \n",
    "knox_geo = GeoData(\n",
    "    geo_dataframe=KnoxCountyRoads,\n",
    "    style=style,\n",
    "    hover_style={'color': 'blue', 'weight': 2, 'opacity': 0.7},\n",
    "    name='KnoxCountyRoads',\n",
    "    show=False,\n",
    "    style_callback=get_polyline_feature\n",
    ")\n",
    "m.add_layer(esri_layer)\n",
    "m.add_layer(knox_geo)\n",
    "m"
   ]
  }
 ],
 "metadata": {
  "kernelspec": {
   "display_name": "Python 3.11.0 ('RapidNomad')",
   "language": "python",
   "name": "python3"
  },
  "language_info": {
   "codemirror_mode": {
    "name": "ipython",
    "version": 3
   },
   "file_extension": ".py",
   "mimetype": "text/x-python",
   "name": "python",
   "nbconvert_exporter": "python",
   "pygments_lexer": "ipython3",
   "version": "3.11.0"
  },
  "vscode": {
   "interpreter": {
    "hash": "d3c0572d019676f25f52d521d757675127d66e867ac9f5290e42525af387a8b6"
   }
  }
 },
 "nbformat": 4,
 "nbformat_minor": 5
}
