{
 "cells": [
  {
   "attachments": {},
   "cell_type": "markdown",
   "metadata": {},
   "source": [
    "# Creating and Ipyleaflet Map for RapidNomad #"
   ]
  },
  {
   "cell_type": "code",
   "execution_count": 3,
   "metadata": {},
   "outputs": [],
   "source": [
    "import ipyleaflet\n",
    "\n",
    "from ipyleaflet import Map, basemaps, basemap_to_tiles"
   ]
  },
  {
   "cell_type": "code",
   "execution_count": 2,
   "metadata": {},
   "outputs": [
    {
     "data": {
      "application/vnd.jupyter.widget-view+json": {
       "model_id": "3f8e606a119d4e6ba3a12003456ce780",
       "version_major": 2,
       "version_minor": 0
      },
      "text/plain": [
       "Map(center=[35.955, -83.9413], controls=(ZoomControl(options=['position', 'zoom_in_text', 'zoom_in_title', 'zo…"
      ]
     },
     "metadata": {},
     "output_type": "display_data"
    }
   ],
   "source": [
    "m = Map(basemap = basemap_to_tiles(basemaps.OpenStreetMap.Mapnik), center = (35.955, -83.9413), zoom = 10)\n",
    "\n",
    "StreetMap = basemap_to_tiles(basemaps.Esri.WorldStreetMap)\n",
    "StamenToner = basemap_to_tiles(basemaps.Stamen.Toner)\n",
    "\n",
    "m.add_layer(\"StreetMap\")\n",
    "m.add_layer(\"StamenToner\")\n",
    "m.add_control(m)\n",
    "\n",
    "m"
   ]
  },
  {
   "cell_type": "code",
   "execution_count": null,
   "metadata": {},
   "outputs": [],
   "source": [
    "## Adding a Basemap ##\n",
    "\n",
    "Map.\n"
   ]
  }
 ],
 "metadata": {
  "kernelspec": {
   "display_name": "Python 3",
   "language": "python",
   "name": "python3"
  },
  "language_info": {
   "codemirror_mode": {
    "name": "ipython",
    "version": 3
   },
   "file_extension": ".py",
   "mimetype": "text/x-python",
   "name": "python",
   "nbconvert_exporter": "python",
   "pygments_lexer": "ipython3",
   "version": "3.11.2"
  },
  "orig_nbformat": 4
 },
 "nbformat": 4,
 "nbformat_minor": 2
}
