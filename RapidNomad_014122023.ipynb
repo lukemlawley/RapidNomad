{
 "cells": [
  {
   "cell_type": "code",
   "execution_count": null,
   "metadata": {},
   "outputs": [],
   "source": []
  }
 ],
 "metadata": {
  "kernelspec": {
   "display_name": "Python 3.11.0 ('RapidNomad')",
   "language": "python",
   "name": "python3"
  },
  "language_info": {
   "name": "python",
   "version": "3.11.0"
  },
  "orig_nbformat": 4,
  "vscode": {
   "interpreter": {
    "hash": "d3c0572d019676f25f52d521d757675127d66e867ac9f5290e42525af387a8b6"
   }
  }
 },
 "nbformat": 4,
 "nbformat_minor": 2
}
