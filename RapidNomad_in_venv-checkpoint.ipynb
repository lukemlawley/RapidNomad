{
 "cells": [
  {
   "attachments": {},
   "cell_type": "markdown",
   "id": "19c2face",
   "metadata": {},
   "source": [
    "[![image](https://colab.research.google.com/assets/colab-badge.svg)](https://colab.research.google.com/github/lukemlawley/RapidNomad/blob/main/RapidNomad_in_venv-checkpoint.ipynb)"
   ]
  },
  {
   "cell_type": "code",
   "execution_count": null,
   "metadata": {},
   "outputs": [],
   "source": [
    "import networkx as nx\n",
    "import geemap as gm\n",
    "import shapefile as shp\n",
    "import ipyleaflet as iply\n",
    "import fiona as fi\n",
    "import geopandas as geopandas\n"
   ]
  },
  {
   "cell_type": "code",
   "execution_count": 73,
   "id": "77b4f4a2",
   "metadata": {},
   "outputs": [
    {
     "data": {
      "text/html": [
       "<div> style=\"overflow-y: scroll; height: 200px\"><table border=\"1\" class=\"dataframe\">\n",
       "  <thead>\n",
       "    <tr style=\"text-align: right;\">\n",
       "      <th>LINEARID</th>\n",
       "      <th>FULLNAME</th>\n",
       "      <th>RTTYP</th>\n",
       "      <th>MTFCC</th>\n",
       "      <th>geometry</th>\n",
       "    </tr>\n",
       "  </thead>\n",
       "  <tbody>\n",
       "    <tr>\n",
       "      <td>110479672118</td>\n",
       "      <td>Reed Dr Exd</td>\n",
       "      <td>M</td>\n",
       "      <td>S1400</td>\n",
       "      <td>LINESTRING (-84.00246 36.07490, -84.00244 36.07492, -84.00243 36.07499, -84.00239 36.07521, -84.00237 36.07528, -84.00233 36.07535, -84.00227 36.07542, -84.00221 36.07548, -84.00211 36.07555, -84.00158 36.07579, -84.00136 36.07589, -84.00116 36.07599, -84.00047 36.07632, -84.00033 36.07640, -83.99998 36.07656, -83.99983 36.07664, -83.99980 36.07667, -83.99977 36.07671, -83.99976 36.07677, -83.99977 36.07681, -83.99992 36.07709, -83.99996 36.07715, -84.00003 36.07722, -84.00006 36.07725, -84.00025 36.07737, -84.00052 36.07753, -84.00068 36.07762, -84.00080 36.07770, -84.00090 36.07780, -84.00120 36.07805, -84.00214 36.07886, -84.00224 36.07892)</td>\n",
       "    </tr>\n",
       "    <tr>\n",
       "      <td>1105059770222</td>\n",
       "      <td>Vandeventer Exd</td>\n",
       "      <td>M</td>\n",
       "      <td>S1400</td>\n",
       "      <td>LINESTRING (-83.95564 35.95443, -83.95553 35.95449, -83.95521 35.95465, -83.95511 35.95470)</td>\n",
       "    </tr>\n",
       "    <tr>\n",
       "      <td>110479674588</td>\n",
       "      <td>Sevier Ave SE Exn</td>\n",
       "      <td>M</td>\n",
       "      <td>S1400</td>\n",
       "      <td>LINESTRING (-83.90031 35.95821, -83.90031 35.95817, -83.90027 35.95812, -83.90025 35.95808, -83.90011 35.95788, -83.90005 35.95780)</td>\n",
       "    </tr>\n",
       "    <tr>\n",
       "      <td>110479681905</td>\n",
       "      <td>Seviervile Pk Exn</td>\n",
       "      <td>M</td>\n",
       "      <td>S1400</td>\n",
       "      <td>LINESTRING (-83.83153 35.91353, -83.83133 35.91346, -83.83120 35.91342, -83.83116 35.91341, -83.83107 35.91339, -83.83096 35.91338, -83.83085 35.91339, -83.83075 35.91340, -83.83065 35.91342, -83.83057 35.91347, -83.83049 35.91356, -83.83027 35.91391, -83.83024 35.91397, -83.83018 35.91406, -83.83009 35.91425)</td>\n",
       "    </tr>\n",
       "    <tr>\n",
       "      <td>1102148729794</td>\n",
       "      <td>School Acc</td>\n",
       "      <td>M</td>\n",
       "      <td>S1640</td>\n",
       "      <td>LINESTRING (-83.85049 36.00775, -83.85069 36.00776, -83.85074 36.00808, -83.85062 36.00812)</td>\n",
       "    </tr>\n",
       "    <tr>\n",
       "      <td>...</td>\n",
       "      <td>...</td>\n",
       "      <td>...</td>\n",
       "      <td>...</td>\n",
       "      <td>...</td>\n",
       "    </tr>\n",
       "    <tr>\n",
       "      <td>110479671534</td>\n",
       "      <td>Ala Dr</td>\n",
       "      <td>M</td>\n",
       "      <td>S1400</td>\n",
       "      <td>LINESTRING (-83.86847 35.90418, -83.86836 35.90420, -83.86822 35.90420, -83.86811 35.90420, -83.86801 35.90417, -83.86788 35.90413, -83.86776 35.90406, -83.86765 35.90402, -83.86750 35.90396, -83.86742 35.90394, -83.86616 35.90370, -83.86557 35.90359, -83.86528 35.90354, -83.86524 35.90353, -83.86511 35.90352, -83.86496 35.90353, -83.86485 35.90355, -83.86473 35.90359, -83.86454 35.90367, -83.86441 35.90373, -83.86413 35.90385, -83.86387 35.90396, -83.86340 35.90416, -83.86307 35.90430, -83.86289 35.90438, -83.86280 35.90442, -83.86270 35.90446, -83.86238 35.90460, -83.86228 35.90464)</td>\n",
       "    </tr>\n",
       "    <tr>\n",
       "      <td>110479678904</td>\n",
       "      <td>Liverpool Ln</td>\n",
       "      <td>M</td>\n",
       "      <td>S1400</td>\n",
       "      <td>LINESTRING (-83.86440 35.90669, -83.86415 35.90669, -83.86390 35.90666, -83.86372 35.90664, -83.86366 35.90655, -83.86353 35.90616, -83.86345 35.90587, -83.86344 35.90582, -83.86339 35.90550, -83.86347 35.90536)</td>\n",
       "    </tr>\n",
       "    <tr>\n",
       "      <td>11012812986254</td>\n",
       "      <td>NaN</td>\n",
       "      <td>NaN</td>\n",
       "      <td>S1710</td>\n",
       "      <td>LINESTRING (-83.93511 35.95177, -83.93499 35.95161, -83.93484 35.95152, -83.93478 35.95145, -83.93467 35.95136, -83.93479 35.95129, -83.93465 35.95122, -83.93448 35.95127, -83.93436 35.95130, -83.93428 35.95120)</td>\n",
       "    </tr>\n",
       "    <tr>\n",
       "      <td>1103580533621</td>\n",
       "      <td>NaN</td>\n",
       "      <td>NaN</td>\n",
       "      <td>S1400</td>\n",
       "      <td>LINESTRING (-83.96050 35.91697, -83.96043 35.91706, -83.96033 35.91709, -83.96024 35.91709, -83.96016 35.91706, -83.96009 35.91701, -83.96000 35.91699, -83.95989 35.91699, -83.95983 35.91698, -83.95977 35.91697, -83.95967 35.91696, -83.95957 35.91697, -83.95948 35.91697, -83.95938 35.91700, -83.95928 35.91703, -83.95916 35.91707, -83.95907 35.91712, -83.95902 35.91715, -83.95895 35.91720, -83.95888 35.91723, -83.95880 35.91726, -83.95874 35.91727, -83.95868 35.91730)</td>\n",
       "    </tr>\n",
       "    <tr>\n",
       "      <td>1103674780557</td>\n",
       "      <td>NaN</td>\n",
       "      <td>NaN</td>\n",
       "      <td>S1400</td>\n",
       "      <td>LINESTRING (-83.90484 35.86213, -83.90485 35.86218, -83.90485 35.86227, -83.90487 35.86232, -83.90489 35.86237, -83.90491 35.86241, -83.90500 35.86253, -83.90507 35.86263, -83.90511 35.86268, -83.90518 35.86272, -83.90528 35.86272, -83.90542 35.86272, -83.90552 35.86271, -83.90562 35.86271, -83.90570 35.86274, -83.90575 35.86278, -83.90582 35.86289, -83.90585 35.86296, -83.90588 35.86302, -83.90590 35.86308, -83.90593 35.86313, -83.90596 35.86319, -83.90598 35.86325, -83.90602 35.86336, -83.90605 35.86342, -83.90609 35.86349, -83.90612 35.86356, -83.90618 35.86369, -83.90622 35.86377, -83.90623 35.86382, -83.90625 35.86387)</td>\n",
       "    </tr>\n",
       "  </tbody>\n",
       "</table></div>"
      ],
      "text/plain": [
       "<IPython.core.display.HTML object>"
      ]
     },
     "metadata": {},
     "output_type": "display_data"
    }
   ],
   "source": [
    "from IPython.display import display, HTML\n",
    "KnoxCo = geopandas.read_file(\"KnoxCountyRoads/KnoxCountyRoads.shp\")\n",
    "table_html = KnoxCo.to_html(max_rows = 10, index=False)\n",
    "display(HTML(f'<div> style=\"overflow-y: scroll; height: 200px\">{table_html}</div>'))"
   ]
  },
  {
   "cell_type": "code",
   "execution_count": null,
   "id": "3c63fcab",
   "metadata": {},
   "outputs": [],
   "source": [
    "from ipyleaflet import Map, GeoData, basemaps, TileLayer, VectorTileLayer\n",
    "m = Map(basemap = basemap_to_tiles(basemaps), center = (36, -84), zoom = 9)\n",
    "esri_url = 'https://server.arcgisonline.com/ArcGIS/rest/services/World_Street_Map/MapServer/tile/{z}/{y}/{x}'\n",
    "esri_layer = TileLayer(url=esri_url, attribution='Esri')\n",
    "KnoxCountyRoads = GeoData(geo_dataframe=KnoxCo)\n",
    "\n",
    "def style(feature):\n",
    "    if\n",
    "\n",
    "m.add_layer(esri_layer)\n",
    "m.add_layer(KnoxCountyRoads)\n",
    "m"
   ]
  }
 ],
 "metadata": {
  "kernelspec": {
   "display_name": "Python 3.11.0 ('RapidNomad')",
   "language": "python",
   "name": "python3"
  },
  "language_info": {
   "codemirror_mode": {
    "name": "ipython",
    "version": 3
   },
   "file_extension": ".py",
   "mimetype": "text/x-python",
   "name": "python",
   "nbconvert_exporter": "python",
   "pygments_lexer": "ipython3",
   "version": "3.11.0"
  },
  "vscode": {
   "interpreter": {
    "hash": "d3c0572d019676f25f52d521d757675127d66e867ac9f5290e42525af387a8b6"
   }
  }
 },
 "nbformat": 4,
 "nbformat_minor": 5
}
