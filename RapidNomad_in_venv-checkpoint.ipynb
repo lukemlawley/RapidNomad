{
 "cells": [
  {
   "attachments": {},
   "cell_type": "markdown",
   "id": "19c2face",
   "metadata": {},
   "source": [
    "[![image](https://colab.research.google.com/assets/colab-badge.svg)](https://colab.research.google.com/github/lukemlawley/RapidNomad/blob/main/RapidNomad_in_venv-checkpoint.ipynb)"
   ]
  },
  {
   "cell_type": "code",
   "execution_count": null,
   "metadata": {},
   "outputs": [],
   "source": [
    "import networkx as nx\n",
    "import geemap as gm\n",
    "import shapefile as shp\n",
    "import ipyleaflet\n",
    "import fiona as fi\n",
    "import geopandas as geopandas\n",
    "import folium\n",
    "import geosdemo"
   ]
  },
  {
   "cell_type": "code",
   "execution_count": null,
   "id": "77b4f4a2",
   "metadata": {},
   "outputs": [],
   "source": [
    "from ipyleaflet import Polyline\n",
    "from IPython.display import display, HTML\n",
    "KnoxCountyRoads = geopandas.read_file(\"\\\\Users\\lukmlawl\\Rapid-Nomad\\RapidNomad\\KnoxCountyRoads\\KnoxCountyRoads.shp\")\n",
    "table_html = KnoxCountyRoads.to_html(index=False)\n",
    "display(HTML(f'<div> style=\"overflow-y: scroll; height: 200px\">{table_html}</div>'))"
   ]
  },
  {
   "cell_type": "code",
   "execution_count": 6,
   "id": "3c63fcab",
   "metadata": {},
   "outputs": [
    {
     "ename": "NameError",
     "evalue": "name 'KnoxCountyRoads' is not defined",
     "output_type": "error",
     "traceback": [
      "\u001b[1;31m---------------------------------------------------------------------------\u001b[0m",
      "\u001b[1;31mNameError\u001b[0m                                 Traceback (most recent call last)",
      "Cell \u001b[1;32mIn[6], line 20\u001b[0m\n\u001b[0;32m     13\u001b[0m \u001b[38;5;28;01mdef\u001b[39;00m \u001b[38;5;21mstyle_function\u001b[39m():\n\u001b[0;32m     14\u001b[0m     \u001b[38;5;28;01mreturn\u001b[39;00m {\n\u001b[0;32m     15\u001b[0m         \u001b[38;5;124m'\u001b[39m\u001b[38;5;124mcolor\u001b[39m\u001b[38;5;124m'\u001b[39m: \u001b[38;5;124m'\u001b[39m\u001b[38;5;124mred\u001b[39m\u001b[38;5;124m'\u001b[39m,\n\u001b[0;32m     16\u001b[0m         \u001b[38;5;124m'\u001b[39m\u001b[38;5;124mweight\u001b[39m\u001b[38;5;124m'\u001b[39m:\u001b[38;5;241m0.5\u001b[39m,\n\u001b[0;32m     17\u001b[0m         \u001b[38;5;124m'\u001b[39m\u001b[38;5;124mopacity\u001b[39m\u001b[38;5;124m'\u001b[39m:\u001b[38;5;241m1\u001b[39m,\n\u001b[0;32m     18\u001b[0m     }    \n\u001b[0;32m     19\u001b[0m knox_geo \u001b[38;5;241m=\u001b[39m GeoData(\n\u001b[1;32m---> 20\u001b[0m     geo_dataframe\u001b[38;5;241m=\u001b[39m\u001b[43mKnoxCountyRoads\u001b[49m,\n\u001b[0;32m     21\u001b[0m     style\u001b[38;5;241m=\u001b[39mstyle,\n\u001b[0;32m     22\u001b[0m     hover_style\u001b[38;5;241m=\u001b[39m{\u001b[38;5;124m'\u001b[39m\u001b[38;5;124mcolor\u001b[39m\u001b[38;5;124m'\u001b[39m: \u001b[38;5;124m'\u001b[39m\u001b[38;5;124mblue\u001b[39m\u001b[38;5;124m'\u001b[39m, \u001b[38;5;124m'\u001b[39m\u001b[38;5;124mweight\u001b[39m\u001b[38;5;124m'\u001b[39m: \u001b[38;5;241m2\u001b[39m, \u001b[38;5;124m'\u001b[39m\u001b[38;5;124mopacity\u001b[39m\u001b[38;5;124m'\u001b[39m: \u001b[38;5;241m0.7\u001b[39m},\n\u001b[0;32m     23\u001b[0m     name\u001b[38;5;241m=\u001b[39m\u001b[38;5;124m'\u001b[39m\u001b[38;5;124mKnoxCountyRoads\u001b[39m\u001b[38;5;124m'\u001b[39m,\n\u001b[0;32m     24\u001b[0m     show\u001b[38;5;241m=\u001b[39m\u001b[38;5;28;01mFalse\u001b[39;00m,\n\u001b[0;32m     25\u001b[0m     style_callback\u001b[38;5;241m=\u001b[39mget_polyline_feature\n\u001b[0;32m     26\u001b[0m )\n\u001b[0;32m     27\u001b[0m m\u001b[38;5;241m.\u001b[39madd_layer(esri_layer)\n\u001b[0;32m     28\u001b[0m m\u001b[38;5;241m.\u001b[39madd_layer(knox_geo)\n",
      "\u001b[1;31mNameError\u001b[0m: name 'KnoxCountyRoads' is not defined"
     ]
    }
   ],
   "source": [
    "from ipyleaflet import Map, basemaps, GeoData, GeoJSON, TileLayer, Polyline, basemap_to_tiles\n",
    "m = Map(basemap = basemaps.Esri.WorldStreetMap, center = (34, -84), zoom = 9)\n",
    "esri_url = 'https://server.arcgisonline.com/ArcGIS/rest/services/World_Street_Map/MapServer/tile/{z}/{y}/{x}'\n",
    "esri_layer = TileLayer(url=esri_url, attribution='Esri')\n",
    "style = {'color': 'red', 'weight': 2, 'opacity': 1}\n",
    "def get_polyline_feature(row):\n",
    "    return Polyline(\n",
    "        locations=[(row[\"latitude_start\"], row[\"longitude_start\"]), (row[\"latitude_end\"], row[\"longitude_end\"])],\n",
    "        color=style['color'],\n",
    "        weight=style['weight'],\n",
    "        opacity=style['opacity']\n",
    "    )\n",
    "def style_function():\n",
    "    return {\n",
    "        'color': 'red',\n",
    "        'weight':0.5,\n",
    "        'opacity':1,\n",
    "    }    \n",
    "knox_geo = GeoData(\n",
    "    geo_dataframe=KnoxCountyRoads,\n",
    "    style=style,\n",
    "    hover_style={'color': 'blue', 'weight': 2, 'opacity': 0.7},\n",
    "    name='KnoxCountyRoads',\n",
    "    show=False,\n",
    "    style_callback=get_polyline_feature\n",
    ")\n",
    "m.add_layer(esri_layer)\n",
    "m.add_layer(knox_geo)\n",
    "m"
   ]
  },
  {
   "cell_type": "code",
   "execution_count": 1,
   "id": "2d10e9ea",
   "metadata": {},
   "outputs": [
    {
     "ename": "NameError",
     "evalue": "name 'ipyleaflet' is not defined",
     "output_type": "error",
     "traceback": [
      "\u001b[1;31m---------------------------------------------------------------------------\u001b[0m",
      "\u001b[1;31mNameError\u001b[0m                                 Traceback (most recent call last)",
      "Cell \u001b[1;32mIn[1], line 6\u001b[0m\n\u001b[0;32m      4\u001b[0m \u001b[38;5;28;01mfrom\u001b[39;00m \u001b[38;5;21;01mipyleaflet\u001b[39;00m \u001b[38;5;28;01mimport\u001b[39;00m Map, basemaps, basemap_to_tiles, TileLayer\n\u001b[0;32m      5\u001b[0m \u001b[38;5;28;01mimport\u001b[39;00m \u001b[38;5;21;01mgeosdemo\u001b[39;00m\n\u001b[1;32m----> 6\u001b[0m m \u001b[38;5;241m=\u001b[39m \u001b[43mipyleaflet\u001b[49m\u001b[38;5;241m.\u001b[39mMap()\n\u001b[0;32m      7\u001b[0m \u001b[38;5;28;01mclass\u001b[39;00m \u001b[38;5;21;01mMap\u001b[39;00m(ipyleaflet\u001b[38;5;241m.\u001b[39mMap):\n\u001b[0;32m      8\u001b[0m     \u001b[38;5;28;01mdef\u001b[39;00m \u001b[38;5;21m__init__\u001b[39m(\u001b[38;5;28mself\u001b[39m, center \u001b[38;5;241m=\u001b[39m [\u001b[38;5;241m36\u001b[39m, \u001b[38;5;241m-\u001b[39m\u001b[38;5;241m84\u001b[39m], zoom \u001b[38;5;241m=\u001b[39m\u001b[38;5;241m9\u001b[39m, \u001b[38;5;241m*\u001b[39m\u001b[38;5;241m*\u001b[39mkwargs) \u001b[38;5;241m-\u001b[39m\u001b[38;5;241m>\u001b[39m \u001b[38;5;28;01mNone\u001b[39;00m:\n",
      "\u001b[1;31mNameError\u001b[0m: name 'ipyleaflet' is not defined"
     ]
    }
   ],
   "source": [
    "##Let's run this one again##\n",
    "import string\n",
    "import random\n",
    "from ipyleaflet import Map, basemaps, basemap_to_tiles, TileLayer\n",
    "import geosdemo\n",
    "m = ipyleaflet.Map()\n",
    "class Map(ipyleaflet.Map):\n",
    "    def __init__(self, center = [36, -84], zoom =9, **kwargs) -> None:\n",
    "        if \"scroll_wheel_zoom\" not in kwargs:\n",
    "            kwargs[\"scroll_wheel_zoom\"] = True\n",
    "\n",
    "    def add_layer(self, layer):\n",
    "        return super().add_layer(layer)\n",
    "\n",
    "    def add_basemap(self, basemap, **kwargs):\n",
    "        if basemap.lower() == \"roadmap\":\n",
    "            url = \"https://mt1.google.com/vt/lyrs=h&x={x}&y={y}&z={z}\"\n",
    "            self.add_layer(url, name = basemap, **kwargs)\n",
    "        elif basemap.lower() == \"satellite\":\n",
    "            url = \"https://mt0.google.com/vt/lyrs=y&x={x}&y={y}&z={z}\"\n",
    "            self.add_layer(url, name = basemap, **kwargs)\n",
    "        else:\n",
    "            basemap.lower() == \"maps\"\n",
    "            url = \"https://mt0.google.com/vt/lyrs=m&x={x}&y={y}&z={z}\"\n",
    "            self.add_layer(url, name = basemap, **kwargs)\n",
    "#m = ipyleaflet.Map(basemap=basemaps.Esri.WorldStreetMap, center = (36, -84), zoom = 9)\n",
    "#m = geosmap(basemap=basemaps.Esri.WorldStreetMap, center = (36, -84), zoom =9)#\n",
    "#Map(add_basemap=basemaps.Esri.NatGeoWorldMap, center = (34, -84), zoom =9)#\n",
    "#class Map(add_geojson. )#\n",
    "m"
   ]
  }
 ],
 "metadata": {
  "kernelspec": {
   "display_name": "Python 3.11.0 ('RapidNomad')",
   "language": "python",
   "name": "python3"
  },
  "language_info": {
   "codemirror_mode": {
    "name": "ipython",
    "version": 3
   },
   "file_extension": ".py",
   "mimetype": "text/x-python",
   "name": "python",
   "nbconvert_exporter": "python",
   "pygments_lexer": "ipython3",
   "version": "3.11.0"
  },
  "vscode": {
   "interpreter": {
    "hash": "d3c0572d019676f25f52d521d757675127d66e867ac9f5290e42525af387a8b6"
   }
  }
 },
 "nbformat": 4,
 "nbformat_minor": 5
}
