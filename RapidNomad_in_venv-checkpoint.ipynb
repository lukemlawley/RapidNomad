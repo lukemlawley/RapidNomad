{
 "cells": [
  {
   "attachments": {},
   "cell_type": "markdown",
   "id": "19c2face",
   "metadata": {},
   "source": [
    "[![image](https://colab.research.google.com/assets/colab-badge.svg)](https://colab.research.google.com/github/lukemlawley/RapidNomad/blob/main/RapidNomad_in_venv-checkpoint.ipynb)"
   ]
  },
  {
   "cell_type": "code",
   "execution_count": 1,
   "metadata": {},
   "outputs": [],
   "source": [
    "import networkx as nx\n",
    "import geemap as gm\n",
    "import shapefile as shp\n",
    "import ipyleaflet as iply"
   ]
  },
  {
   "cell_type": "code",
   "execution_count": 12,
   "id": "7ab2991b",
   "metadata": {},
   "outputs": [
    {
     "name": "stdout",
     "output_type": "stream",
     "text": [
      "No module named 'pycrs'\n"
     ]
    }
   ],
   "source": [
    "KnoxCo = gm.shp_to_ee(\"https://github.com/lukemlawley/RapidNomad/blob/main/tl_rd22_47093_roads.zip\")\n"
   ]
  },
  {
   "cell_type": "code",
   "execution_count": 2,
   "id": "f8e2d8cd",
   "metadata": {},
   "outputs": [],
   "source": [
    "sf = shp.Reader(\"\\\\Users\\luke.lawley\\Downloads\\RapidNomad\\envs\\RapidNomad\\RapidNomad-main\\RapidNomad-main\\KnoxCo_Rtes_NN.shp\")\n",
    "fields = [x[0] for x in sf.fields][1:]\n",
    "records = sf.records()\n",
    "data = []\n",
    "for record in records:\n",
    "    data.append(tuple(record))\n",
    "nodes = {}\n",
    "edges = []"
   ]
  },
  {
   "cell_type": "code",
   "execution_count": 3,
   "id": "e1946c6a",
   "metadata": {},
   "outputs": [
    {
     "ename": "TypeError",
     "evalue": "'int' object is not iterable",
     "output_type": "error",
     "traceback": [
      "\u001b[1;31m---------------------------------------------------------------------------\u001b[0m",
      "\u001b[1;31mTypeError\u001b[0m                                 Traceback (most recent call last)",
      "Cell \u001b[1;32mIn[3], line 9\u001b[0m\n\u001b[0;32m      7\u001b[0m speed_limit \u001b[39m=\u001b[39m shp\u001b[39m.\u001b[39mShapeRecords[\u001b[39m1\u001b[39m]\n\u001b[0;32m      8\u001b[0m \u001b[39mif\u001b[39;00m all_coords:\n\u001b[1;32m----> 9\u001b[0m     \u001b[39mfor\u001b[39;00m i, coords \u001b[39min\u001b[39;00m \u001b[39menumerate\u001b[39;49m(shp\u001b[39m.\u001b[39;49mPOINTZ):\n\u001b[0;32m     10\u001b[0m         loc \u001b[39m=\u001b[39m \u001b[39mf\u001b[39m\u001b[39m\"\u001b[39m\u001b[39m{\u001b[39;00mshp\u001b[39m.\u001b[39mSHAPETYPE_LOOKUP\u001b[39m}\u001b[39;00m\u001b[39m_\u001b[39m\u001b[39m{\u001b[39;00mshp\u001b[39m.\u001b[39mre\u001b[39m}\u001b[39;00m\u001b[39m_\u001b[39m\u001b[39m{\u001b[39;00mi\u001b[39m}\u001b[39;00m\u001b[39m\"\u001b[39m\n\u001b[0;32m     11\u001b[0m         [loc] \u001b[39m=\u001b[39m {\u001b[39m\"\u001b[39m\u001b[39mx\u001b[39m\u001b[39m\"\u001b[39m: coords[\u001b[39m0\u001b[39m], \u001b[39m\"\u001b[39m\u001b[39my\u001b[39m\u001b[39m\"\u001b[39m: coords[\u001b[39m1\u001b[39m]}\n",
      "\u001b[1;31mTypeError\u001b[0m: 'int' object is not iterable"
     ]
    }
   ],
   "source": [
    "sf = shp.Reader(\"\\\\Users\\luke.lawley\\Downloads\\RapidNomad\\envs\\RapidNomad\\RapidNomad-main\\RapidNomad-main\\KnoxCo_Rtes_NN.shp\")\n",
    "nodes = {}\n",
    "edges = []\n",
    "for shape in sf.shapes():\n",
    "    all_coords = shp.Shapes.count\n",
    "    length = shp.ShapeRecords[0]\n",
    "    speed_limit = shp.ShapeRecords[1]\n",
    "    if all_coords:\n",
    "        for i, coords in enumerate(shp.POINTZ):\n",
    "            loc = f\"{shp.SHAPETYPE_LOOKUP}_{shp.re}_{i}\"\n",
    "            [loc] = {\"x\": coords[0], \"y\": coords[1]}\n",
    "        if i > 0:\n",
    "            origin_point = f\"{shape.shapeType}_{shape.shapeIndex}_{i-1}\"\n",
    "            departure = nodes[origin_point]\n",
    "            dist = gm.distance(departure[\"x\"], departure[\"y\"], coords[0], coords[1])\n",
    "            travel_time = dist / speed_limit\n",
    "            edges.append((origin_point, loc, travel_time))\n",
    "G = nx.DiGraph()\n",
    "G.add_weighted_edges_from(edges)"
   ]
  },
  {
   "cell_type": "code",
   "execution_count": 11,
   "id": "3c63fcab",
   "metadata": {},
   "outputs": [
    {
     "data": {
      "application/vnd.jupyter.widget-view+json": {
       "model_id": "5e42917bbf1640689485c944b3ed49a4",
       "version_major": 2,
       "version_minor": 0
      },
      "text/plain": [
       "Map(center=[36, -84], controls=(ZoomControl(options=['position', 'zoom_in_text', 'zoom_in_title', 'zoom_out_te…"
      ]
     },
     "metadata": {},
     "output_type": "display_data"
    }
   ],
   "source": [
    "import json\n",
    "import folium\n",
    "import geemap.foliumap as gmfm\n",
    "from ipyleaflet import Map, GeoJSON, basemaps, TileLayer, basemap_to_tiles\n",
    "m = Map(basemap = basemap_to_tiles(basemaps), center = (36, -84), zoom = 10)\n",
    "esri_url = 'https://server.arcgisonline.com/ArcGIS/rest/services/World_Street_Map/MapServer/tile/{z}/{y}/{x}'\n",
    "esri_layer = TileLayer(url=esri_url, attribution='Esri')\n",
    "m.add_layer(esri_layer)\n",
    "m.add_layer(KnoxCo)\n",
    "m"
   ]
  }
 ],
 "metadata": {
  "kernelspec": {
   "display_name": "Python 3.11.0 ('RapidNomad')",
   "language": "python",
   "name": "python3"
  },
  "language_info": {
   "codemirror_mode": {
    "name": "ipython",
    "version": 3
   },
   "file_extension": ".py",
   "mimetype": "text/x-python",
   "name": "python",
   "nbconvert_exporter": "python",
   "pygments_lexer": "ipython3",
   "version": "3.11.0"
  },
  "vscode": {
   "interpreter": {
    "hash": "d3c0572d019676f25f52d521d757675127d66e867ac9f5290e42525af387a8b6"
   }
  }
 },
 "nbformat": 4,
 "nbformat_minor": 5
}
