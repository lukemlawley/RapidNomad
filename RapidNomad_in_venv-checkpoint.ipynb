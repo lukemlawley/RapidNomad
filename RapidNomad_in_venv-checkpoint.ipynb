{
 "cells": [
  {
   "attachments": {},
   "cell_type": "markdown",
   "id": "19c2face",
   "metadata": {},
   "source": [
    "[![image](https://colab.research.google.com/assets/colab-badge.svg)](https://colab.research.google.com/github/lukemlawley/RapidNomad/blob/main/RapidNomad_in_venv-checkpoint.ipynb)"
   ]
  },
  {
   "cell_type": "code",
   "execution_count": null,
   "metadata": {},
   "outputs": [],
   "source": [
    "import networkx as nx\n",
    "import geemap as gm\n",
    "import shapefile as shp\n",
    "import ipyleaflet\n",
    "import fiona as fi\n",
    "import geopandas as geopandas\n",
    "import folium\n",
    "import geosdemo"
   ]
  },
  {
   "cell_type": "code",
   "execution_count": null,
   "id": "77b4f4a2",
   "metadata": {},
   "outputs": [],
   "source": [
    "from ipyleaflet import Polyline\n",
    "from IPython.display import display, HTML\n",
    "KnoxCountyRoads = geopandas.read_file(\"\\\\Users\\lukmlawl\\Rapid-Nomad\\RapidNomad\\KnoxCountyRoads\\KnoxCountyRoads.shp\")\n",
    "table_html = KnoxCountyRoads.to_html(index=False)\n",
    "display(HTML(f'<div> style=\"overflow-y: scroll; height: 200px\">{table_html}</div>'))"
   ]
  },
  {
   "cell_type": "code",
   "execution_count": 3,
   "id": "3c63fcab",
   "metadata": {},
   "outputs": [
    {
     "data": {
      "application/vnd.jupyter.widget-view+json": {
       "model_id": "d3c224ad55b54fed89a6984af10b26d1",
       "version_major": 2,
       "version_minor": 0
      },
      "text/plain": [
       "Map(center=[36, -84], controls=(ZoomControl(options=['position', 'zoom_in_text', 'zoom_in_title', 'zoom_out_te…"
      ]
     },
     "metadata": {},
     "output_type": "display_data"
    }
   ],
   "source": [
    "import folium\n",
    "import geosdemo\n",
    "import ipyleaflet \n",
    "from ipyleaflet import Map, basemaps, GeoData, GeoJSON, TileLayer, Polyline, basemap_to_tiles\n",
    "m = Map(basemap=basemaps.Esri.WorldStreetMap, center = (36, -84), zoom =9)\n",
    "esri_url = 'https://server.arcgisonline.com/ArcGIS/rest/services/World_Street_Map/MapServer/tile/{z}/{y}/{x}'\n",
    "esri_layer = TileLayer(url=esri_url, attribution='Esri')\n",
    "style = {'color': 'red', 'weight': 2, 'opacity': 1}\n",
    "def get_polyline_feature(row):\n",
    "    return Polyline(\n",
    "        locations=[(row[\"latitude_start\"], row[\"longitude_start\"]), (row[\"latitude_end\"], row[\"longitude_end\"])],\n",
    "        color=style['color'],\n",
    "        weight=style['weight'],\n",
    "        opacity=style['opacity']\n",
    "    )\n",
    "def style_function():\n",
    "    return {\n",
    "        'color': 'red',\n",
    "        'weight':0.5,\n",
    "        'opacity':1,\n",
    "    }    \n",
    "knox_geo = GeoData(\n",
    "    geo_dataframe=KnoxCountyRoads,\n",
    "    style=style,\n",
    "    hover_style={'color': 'blue', 'weight': 2, 'opacity': 0.7},\n",
    "    name='KnoxCountyRoads',\n",
    "    show=False,\n",
    "    style_callback=get_polyline_feature\n",
    ")\n",
    "m.add_layer(esri_layer)\n",
    "m.add_layer(knox_geo)\n",
    "m"
   ]
  },
  {
   "cell_type": "code",
   "execution_count": 12,
   "id": "2d10e9ea",
   "metadata": {},
   "outputs": [
    {
     "data": {
      "application/vnd.jupyter.widget-view+json": {
       "model_id": "abb98d29bcb74c8d88ca21054a7b23a2",
       "version_major": 2,
       "version_minor": 0
      },
      "text/plain": [
       "Map(center=[0.0, 0.0], controls=(ZoomControl(options=['position', 'zoom_in_text', 'zoom_in_title', 'zoom_out_t…"
      ]
     },
     "metadata": {},
     "output_type": "display_data"
    }
   ],
   "source": [
    "##Let's run this one again##\n",
    "import string\n",
    "import random\n",
    "from ipyleaflet import Map, basemaps, basemap_to_tiles, TileLayer\n",
    "import geosdemo\n",
    "m = ipyleaflet.Map()\n",
    "class Map(ipyleaflet.Map):\n",
    "    def __init__(self, center = [36, -84], zoom =9, **kwargs) -> None:\n",
    "        if \"scroll_wheel_zoom\" not in kwargs:\n",
    "            kwargs[\"scroll_wheel_zoom\"] = True\n",
    "\n",
    "    def add_layer(self, layer):\n",
    "        return super().add_layer(layer)\n",
    "\n",
    "    def add_basemap(self, basemap, **kwargs):\n",
    "        if basemap.lower() == \"roadmap\":\n",
    "            url = \"https://mt1.google.com/vt/lyrs=h&x={x}&y={y}&z={z}\"\n",
    "            self.add_layer(url, name = basemap, **kwargs)\n",
    "        elif basemap.lower() == \"satellite\":\n",
    "            url = \"https://mt0.google.com/vt/lyrs=y&x={x}&y={y}&z={z}\"\n",
    "            self.add_layer(url, name = basemap, **kwargs)\n",
    "        else:\n",
    "            basemap.lower() == \"maps\"\n",
    "            url = \"https://mt0.google.com/vt/lyrs=m&x={x}&y={y}&z={z}\"\n",
    "            self.add_layer(url, name = basemap, **kwargs)\n",
    "#m = ipyleaflet.Map(basemap=basemaps.Esri.WorldStreetMap, center = (36, -84), zoom = 9)\n",
    "#m = geosmap(basemap=basemaps.Esri.WorldStreetMap, center = (36, -84), zoom =9)#\n",
    "#Map(add_basemap=basemaps.Esri.NatGeoWorldMap, center = (34, -84), zoom =9)#\n",
    "#class Map(add_geojson. )#\n",
    "m"
   ]
  }
 ],
 "metadata": {
  "kernelspec": {
   "display_name": "Python 3.11.0 ('RapidNomad')",
   "language": "python",
   "name": "python3"
  },
  "language_info": {
   "codemirror_mode": {
    "name": "ipython",
    "version": 3
   },
   "file_extension": ".py",
   "mimetype": "text/x-python",
   "name": "python",
   "nbconvert_exporter": "python",
   "pygments_lexer": "ipython3",
   "version": "3.11.0"
  },
  "vscode": {
   "interpreter": {
    "hash": "d3c0572d019676f25f52d521d757675127d66e867ac9f5290e42525af387a8b6"
   }
  }
 },
 "nbformat": 4,
 "nbformat_minor": 5
}
